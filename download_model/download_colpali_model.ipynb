{
 "cells": [
  {
   "metadata": {},
   "cell_type": "markdown",
   "source": [
    "## Setup \n",
    "1) If you're using PyCharm, you need to install Jupyter first"
   ],
   "id": "9c79d0796555e582"
  },
  {
   "metadata": {
    "jupyter": {
     "is_executing": true
    }
   },
   "cell_type": "code",
   "source": "!pip install -q byaldi",
   "id": "8c944c819b75538",
   "outputs": [],
   "execution_count": null
  },
  {
   "metadata": {},
   "cell_type": "markdown",
   "source": [
    "## Download Model\n",
    "1) The total size of the files to be downloaded is over 5GB(models--vidore--colpali-v1.2, models--vidore--colpaligemma-3b-pt-448-base), it may take some time depending on your network speed."
   ],
   "id": "18b9c2d455179728"
  },
  {
   "metadata": {},
   "cell_type": "code",
   "outputs": [],
   "execution_count": null,
   "source": [
    "from byaldi import RAGMultiModalModel\n",
    "\n",
    "ColPali_RAG = RAGMultiModalModel.from_pretrained(\"vidore/colpali-v1.2\", verbose=1)"
   ],
   "id": "initial_id"
  }
 ],
 "metadata": {
  "kernelspec": {
   "display_name": "Python 3",
   "language": "python",
   "name": "python3"
  },
  "language_info": {
   "codemirror_mode": {
    "name": "ipython",
    "version": 2
   },
   "file_extension": ".py",
   "mimetype": "text/x-python",
   "name": "python",
   "nbconvert_exporter": "python",
   "pygments_lexer": "ipython2",
   "version": "2.7.6"
  }
 },
 "nbformat": 4,
 "nbformat_minor": 5
}
